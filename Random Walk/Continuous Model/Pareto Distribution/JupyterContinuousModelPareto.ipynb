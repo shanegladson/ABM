{
 "cells": [
  {
   "cell_type": "code",
   "execution_count": 1,
   "metadata": {},
   "outputs": [],
   "source": [
    "from RandomWalkContinuousPareto import *\n",
    "import matplotlib.pyplot as plt\n",
    "import numpy as np\n",
    "from mesa.batchrunner import BatchRunner # For future projects examining displacement\n",
    "\n",
    "# Larger world due to increased step length, random walk in any direction\n",
    "sim = WorldModel(1, 1000, 1000, 2*np.pi)"
   ]
  },
  {
   "cell_type": "code",
   "execution_count": 2,
   "metadata": {},
   "outputs": [],
   "source": [
    "sim.schedule.agents[0].pos\n",
    "for i in range(100):\n",
    "    sim.step()"
   ]
  },
  {
   "cell_type": "code",
   "execution_count": 3,
   "metadata": {},
   "outputs": [
    {
     "data": {
      "text/plain": [
       "Text(0.5, 1.0, 'Position Over 100 Steps')"
      ]
     },
     "execution_count": 3,
     "metadata": {},
     "output_type": "execute_result"
    },
    {
     "data": {
      "image/png": "[encoded data removed]",
      "text/plain": [
       "<Figure size 432x288 with 1 Axes>"
      ]
     },
     "metadata": {
      "needs_background": "light"
     },
     "output_type": "display_data"
    }
   ],
   "source": [
    "data = sim.data_collector.get_agent_vars_dataframe()\n",
    "x,y = [],[]\n",
    "for i in data[\"Position\"]:\n",
    "    x.append(i[0])\n",
    "    y.append(i[1])\n",
    "finalx, finaly = x[-1], y[-1]\n",
    "plt.plot(x,y)\n",
    "plt.scatter(finalx, finaly, c=\"r\", marker=\"x\")\n",
    "plt.grid(True, linewidth=1)\n",
    "plt.xlim(0,1000)\n",
    "plt.ylim(0,1000)\n",
    "plt.xlabel(\"X\")\n",
    "plt.ylabel(\"Y\")\n",
    "plt.title(\"Position Over 100 Steps\")"
   ]
  },
  {
   "cell_type": "code",
   "execution_count": null,
   "metadata": {},
   "outputs": [],
   "source": []
  }
 ],
 "metadata": {
  "kernelspec": {
   "display_name": "Python 3",
   "language": "python",
   "name": "python3"
  },
  "language_info": {
   "codemirror_mode": {
    "name": "ipython",
    "version": 3
   },
   "file_extension": ".py",
   "mimetype": "text/x-python",
   "name": "python",
   "nbconvert_exporter": "python",
   "pygments_lexer": "ipython3",
   "version": "3.9.1"
  }
 },
 "nbformat": 4,
 "nbformat_minor": 4
}
